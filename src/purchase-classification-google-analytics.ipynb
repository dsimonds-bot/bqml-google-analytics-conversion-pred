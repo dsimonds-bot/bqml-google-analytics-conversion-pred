{
 "cells": [
  {
   "cell_type": "markdown",
   "id": "52ce68e3",
   "metadata": {},
   "source": [
    "# Machine Learning: Classification \n",
    "Goal of this notebook is to interpret data from Google Analytics and classify whether or not the session resulted in a transaction. Data for this notebook was source from Google Analytics sample data in BigQuery, with the query and data maintained in this notebook. Marketers can use this information to see which targeting features drive the highest impact on conversion probability!"
   ]
  },
  {
   "cell_type": "markdown",
   "id": "c4c14a85",
   "metadata": {},
   "source": [
    "## Part 0: Package Import\n",
    "Goal:\n",
    "- Import requisite packages"
   ]
  },
  {
   "cell_type": "code",
   "execution_count": 1,
   "id": "af86e5fb",
   "metadata": {},
   "outputs": [],
   "source": [
    "# Package Import\n",
    "import pandas as pd\n",
    "import numpy as np\n",
    "import matplotlib.pyplot as pltb\n",
    "import seaborn as sb\n",
    "import scipy\n",
    "import statsmodels.formula.api as smf\n",
    "import statsmodels.api as sm\n",
    "from sklearn import model_selection, preprocessing, feature_selection, ensemble, linear_model, metrics, decomposition\n",
    "import datetime"
   ]
  },
  {
   "cell_type": "markdown",
   "id": "2910622d",
   "metadata": {},
   "source": [
    "## Part 1: Data Import\n",
    "Goal:\n",
    "- Read in raw data from working directory\n",
    "- Note - data source from BigQuery"
   ]
  },
  {
   "cell_type": "code",
   "execution_count": 2,
   "id": "fac78e45",
   "metadata": {},
   "outputs": [
    {
     "data": {
      "text/html": [
       "<div>\n",
       "<style scoped>\n",
       "    .dataframe tbody tr th:only-of-type {\n",
       "        vertical-align: middle;\n",
       "    }\n",
       "\n",
       "    .dataframe tbody tr th {\n",
       "        vertical-align: top;\n",
       "    }\n",
       "\n",
       "    .dataframe thead th {\n",
       "        text-align: right;\n",
       "    }\n",
       "</style>\n",
       "<table border=\"1\" class=\"dataframe\">\n",
       "  <thead>\n",
       "    <tr style=\"text-align: right;\">\n",
       "      <th></th>\n",
       "      <th>date</th>\n",
       "      <th>campaign</th>\n",
       "      <th>transactions</th>\n",
       "      <th>pageviews</th>\n",
       "      <th>ismobile</th>\n",
       "      <th>country</th>\n",
       "    </tr>\n",
       "  </thead>\n",
       "  <tbody>\n",
       "    <tr>\n",
       "      <th>0</th>\n",
       "      <td>2017-02-25</td>\n",
       "      <td>AW - Dynamic Search Ads Whole Site</td>\n",
       "      <td>0</td>\n",
       "      <td>1</td>\n",
       "      <td>False</td>\n",
       "      <td>United States</td>\n",
       "    </tr>\n",
       "    <tr>\n",
       "      <th>1</th>\n",
       "      <td>2017-02-25</td>\n",
       "      <td>Data Share Promo</td>\n",
       "      <td>0</td>\n",
       "      <td>1</td>\n",
       "      <td>False</td>\n",
       "      <td>India</td>\n",
       "    </tr>\n",
       "    <tr>\n",
       "      <th>2</th>\n",
       "      <td>2017-02-25</td>\n",
       "      <td>Data Share Promo</td>\n",
       "      <td>0</td>\n",
       "      <td>1</td>\n",
       "      <td>False</td>\n",
       "      <td>China</td>\n",
       "    </tr>\n",
       "    <tr>\n",
       "      <th>3</th>\n",
       "      <td>2017-02-25</td>\n",
       "      <td>Data Share Promo</td>\n",
       "      <td>0</td>\n",
       "      <td>1</td>\n",
       "      <td>False</td>\n",
       "      <td>Spain</td>\n",
       "    </tr>\n",
       "    <tr>\n",
       "      <th>4</th>\n",
       "      <td>2017-02-25</td>\n",
       "      <td>AW - Accessories</td>\n",
       "      <td>0</td>\n",
       "      <td>1</td>\n",
       "      <td>False</td>\n",
       "      <td>United States</td>\n",
       "    </tr>\n",
       "  </tbody>\n",
       "</table>\n",
       "</div>"
      ],
      "text/plain": [
       "        date                            campaign  transactions  pageviews  \\\n",
       "0 2017-02-25  AW - Dynamic Search Ads Whole Site             0          1   \n",
       "1 2017-02-25                    Data Share Promo             0          1   \n",
       "2 2017-02-25                    Data Share Promo             0          1   \n",
       "3 2017-02-25                    Data Share Promo             0          1   \n",
       "4 2017-02-25                    AW - Accessories             0          1   \n",
       "\n",
       "   ismobile        country  \n",
       "0     False  United States  \n",
       "1     False          India  \n",
       "2     False          China  \n",
       "3     False          Spain  \n",
       "4     False  United States  "
      ]
     },
     "execution_count": 2,
     "metadata": {},
     "output_type": "execute_result"
    }
   ],
   "source": [
    "# Data Import\n",
    "rawData = pd.read_csv(r\"rawData.csv\", parse_dates = ['date'])\n",
    "\n",
    "rawData.head()"
   ]
  },
  {
   "cell_type": "markdown",
   "id": "d66fe870",
   "metadata": {},
   "source": [
    "## Part 2: Exploratory Analysis"
   ]
  },
  {
   "cell_type": "code",
   "execution_count": 3,
   "id": "08c63f7f",
   "metadata": {},
   "outputs": [
    {
     "name": "stdout",
     "output_type": "stream",
     "text": [
      "<class 'pandas.core.frame.DataFrame'>\n",
      "RangeIndex: 5000 entries, 0 to 4999\n",
      "Data columns (total 6 columns):\n",
      " #   Column        Non-Null Count  Dtype         \n",
      "---  ------        --------------  -----         \n",
      " 0   date          5000 non-null   datetime64[ns]\n",
      " 1   campaign      5000 non-null   object        \n",
      " 2   transactions  5000 non-null   int64         \n",
      " 3   pageviews     5000 non-null   int64         \n",
      " 4   ismobile      5000 non-null   bool          \n",
      " 5   country       5000 non-null   object        \n",
      "dtypes: bool(1), datetime64[ns](1), int64(2), object(2)\n",
      "memory usage: 200.3+ KB\n"
     ]
    }
   ],
   "source": [
    "# Info on the dataset\n",
    "rawData.info()"
   ]
  },
  {
   "cell_type": "code",
   "execution_count": 4,
   "id": "0af82600",
   "metadata": {},
   "outputs": [
    {
     "data": {
      "text/html": [
       "<div>\n",
       "<style scoped>\n",
       "    .dataframe tbody tr th:only-of-type {\n",
       "        vertical-align: middle;\n",
       "    }\n",
       "\n",
       "    .dataframe tbody tr th {\n",
       "        vertical-align: top;\n",
       "    }\n",
       "\n",
       "    .dataframe thead th {\n",
       "        text-align: right;\n",
       "    }\n",
       "</style>\n",
       "<table border=\"1\" class=\"dataframe\">\n",
       "  <thead>\n",
       "    <tr style=\"text-align: right;\">\n",
       "      <th></th>\n",
       "      <th>transactions</th>\n",
       "      <th>pageviews</th>\n",
       "    </tr>\n",
       "  </thead>\n",
       "  <tbody>\n",
       "    <tr>\n",
       "      <th>count</th>\n",
       "      <td>5000.000000</td>\n",
       "      <td>5000.000000</td>\n",
       "    </tr>\n",
       "    <tr>\n",
       "      <th>mean</th>\n",
       "      <td>0.007800</td>\n",
       "      <td>4.169800</td>\n",
       "    </tr>\n",
       "    <tr>\n",
       "      <th>std</th>\n",
       "      <td>0.087981</td>\n",
       "      <td>6.250407</td>\n",
       "    </tr>\n",
       "    <tr>\n",
       "      <th>min</th>\n",
       "      <td>0.000000</td>\n",
       "      <td>1.000000</td>\n",
       "    </tr>\n",
       "    <tr>\n",
       "      <th>25%</th>\n",
       "      <td>0.000000</td>\n",
       "      <td>1.000000</td>\n",
       "    </tr>\n",
       "    <tr>\n",
       "      <th>50%</th>\n",
       "      <td>0.000000</td>\n",
       "      <td>2.000000</td>\n",
       "    </tr>\n",
       "    <tr>\n",
       "      <th>75%</th>\n",
       "      <td>0.000000</td>\n",
       "      <td>5.000000</td>\n",
       "    </tr>\n",
       "    <tr>\n",
       "      <th>max</th>\n",
       "      <td>1.000000</td>\n",
       "      <td>108.000000</td>\n",
       "    </tr>\n",
       "  </tbody>\n",
       "</table>\n",
       "</div>"
      ],
      "text/plain": [
       "       transactions    pageviews\n",
       "count   5000.000000  5000.000000\n",
       "mean       0.007800     4.169800\n",
       "std        0.087981     6.250407\n",
       "min        0.000000     1.000000\n",
       "25%        0.000000     1.000000\n",
       "50%        0.000000     2.000000\n",
       "75%        0.000000     5.000000\n",
       "max        1.000000   108.000000"
      ]
     },
     "execution_count": 4,
     "metadata": {},
     "output_type": "execute_result"
    }
   ],
   "source": [
    "# Describing the dataset\n",
    "rawData.describe()"
   ]
  },
  {
   "cell_type": "code",
   "execution_count": 5,
   "id": "9b2d9fd1",
   "metadata": {},
   "outputs": [
    {
     "data": {
      "text/html": [
       "<div>\n",
       "<style scoped>\n",
       "    .dataframe tbody tr th:only-of-type {\n",
       "        vertical-align: middle;\n",
       "    }\n",
       "\n",
       "    .dataframe tbody tr th {\n",
       "        vertical-align: top;\n",
       "    }\n",
       "\n",
       "    .dataframe thead th {\n",
       "        text-align: right;\n",
       "    }\n",
       "</style>\n",
       "<table border=\"1\" class=\"dataframe\">\n",
       "  <thead>\n",
       "    <tr style=\"text-align: right;\">\n",
       "      <th></th>\n",
       "      <th>transactions</th>\n",
       "    </tr>\n",
       "    <tr>\n",
       "      <th>campaign</th>\n",
       "      <th></th>\n",
       "    </tr>\n",
       "  </thead>\n",
       "  <tbody>\n",
       "    <tr>\n",
       "      <th>AW - Accessories</th>\n",
       "      <td>22</td>\n",
       "    </tr>\n",
       "    <tr>\n",
       "      <th>AW - Apparel</th>\n",
       "      <td>0</td>\n",
       "    </tr>\n",
       "    <tr>\n",
       "      <th>AW - Dynamic Search Ads Whole Site</th>\n",
       "      <td>17</td>\n",
       "    </tr>\n",
       "    <tr>\n",
       "      <th>AW - Electronics</th>\n",
       "      <td>0</td>\n",
       "    </tr>\n",
       "    <tr>\n",
       "      <th>All Products</th>\n",
       "      <td>0</td>\n",
       "    </tr>\n",
       "    <tr>\n",
       "      <th>Data Share Promo</th>\n",
       "      <td>0</td>\n",
       "    </tr>\n",
       "  </tbody>\n",
       "</table>\n",
       "</div>"
      ],
      "text/plain": [
       "                                    transactions\n",
       "campaign                                        \n",
       "AW - Accessories                              22\n",
       "AW - Apparel                                   0\n",
       "AW - Dynamic Search Ads Whole Site            17\n",
       "AW - Electronics                               0\n",
       "All Products                                   0\n",
       "Data Share Promo                               0"
      ]
     },
     "execution_count": 5,
     "metadata": {},
     "output_type": "execute_result"
    }
   ],
   "source": [
    "# Visualizing how many transactions we have to work with\n",
    "\n",
    "# Total Tranasctions\n",
    "totalTransactions = rawData['transactions'].sum()\n",
    "\n",
    "# Counting transactions by campaign\n",
    "campaignTransactions = rawData[['campaign', 'transactions']].groupby('campaign').sum()\n",
    "\n",
    "campaignTransactions"
   ]
  }
 ],
 "metadata": {
  "kernelspec": {
   "display_name": "Python 3 (ipykernel)",
   "language": "python",
   "name": "python3"
  },
  "language_info": {
   "codemirror_mode": {
    "name": "ipython",
    "version": 3
   },
   "file_extension": ".py",
   "mimetype": "text/x-python",
   "name": "python",
   "nbconvert_exporter": "python",
   "pygments_lexer": "ipython3",
   "version": "3.9.7"
  }
 },
 "nbformat": 4,
 "nbformat_minor": 5
}
