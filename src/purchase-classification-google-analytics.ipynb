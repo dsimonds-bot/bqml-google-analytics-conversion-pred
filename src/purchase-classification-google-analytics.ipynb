{
 "cells": [
  {
   "cell_type": "markdown",
   "id": "60486058",
   "metadata": {},
   "source": [
    "# Machine Learning: Classification \n",
    "Goal of this notebook is to interpret data from Google Analytics and classify whether or not the session resulted in a transaction. Data for this notebook was source from Google Analytics sample data in BigQuery, with the query and data maintained in this notebook. Marketers can use this information to see which targeting features drive the highest impact on conversion probability!"
   ]
  },
  {
   "cell_type": "markdown",
   "id": "3096d432",
   "metadata": {},
   "source": [
    "## Part 0: Package Import\n",
    "Goal:\n",
    "- Import requisite packages"
   ]
  },
  {
   "cell_type": "code",
   "execution_count": 1,
   "id": "af86e5fb",
   "metadata": {},
   "outputs": [],
   "source": [
    "# Package Import\n",
    "import pandas as pd\n",
    "import numpy as np\n",
    "import matplotlib.pyplot as plt\n",
    "import matplotlib.style as style\n",
    "import seaborn as sb\n",
    "import scipy\n",
    "import statsmodels.formula.api as smf\n",
    "import statsmodels.api as sm\n",
    "from sklearn import model_selection, preprocessing, feature_selection, ensemble, linear_model, metrics, decomposition\n",
    "import datetime\n",
    "from datetime import timedelta\n",
    "style.use('ggplot')"
   ]
  },
  {
   "cell_type": "markdown",
   "id": "fc6b9684",
   "metadata": {},
   "source": [
    "## Part 1: Data Import\n",
    "Goal:\n",
    "- Read in raw data from working directory\n",
    "- Note - data source from BigQuery"
   ]
  },
  {
   "cell_type": "code",
   "execution_count": 2,
   "id": "a934e435",
   "metadata": {},
   "outputs": [
    {
     "data": {
      "text/html": [
       "<div>\n",
       "<style scoped>\n",
       "    .dataframe tbody tr th:only-of-type {\n",
       "        vertical-align: middle;\n",
       "    }\n",
       "\n",
       "    .dataframe tbody tr th {\n",
       "        vertical-align: top;\n",
       "    }\n",
       "\n",
       "    .dataframe thead th {\n",
       "        text-align: right;\n",
       "    }\n",
       "</style>\n",
       "<table border=\"1\" class=\"dataframe\">\n",
       "  <thead>\n",
       "    <tr style=\"text-align: right;\">\n",
       "      <th></th>\n",
       "      <th>date</th>\n",
       "      <th>campaign</th>\n",
       "      <th>transactions</th>\n",
       "      <th>pageviews</th>\n",
       "      <th>ismobile</th>\n",
       "      <th>country</th>\n",
       "    </tr>\n",
       "  </thead>\n",
       "  <tbody>\n",
       "    <tr>\n",
       "      <th>0</th>\n",
       "      <td>2016-09-23</td>\n",
       "      <td>Data Share Promo</td>\n",
       "      <td>0</td>\n",
       "      <td>1.0</td>\n",
       "      <td>False</td>\n",
       "      <td>India</td>\n",
       "    </tr>\n",
       "    <tr>\n",
       "      <th>1</th>\n",
       "      <td>2016-09-23</td>\n",
       "      <td>Data Share Promo</td>\n",
       "      <td>0</td>\n",
       "      <td>1.0</td>\n",
       "      <td>False</td>\n",
       "      <td>United Kingdom</td>\n",
       "    </tr>\n",
       "    <tr>\n",
       "      <th>2</th>\n",
       "      <td>2016-09-23</td>\n",
       "      <td>Data Share Promo</td>\n",
       "      <td>0</td>\n",
       "      <td>1.0</td>\n",
       "      <td>False</td>\n",
       "      <td>Czechia</td>\n",
       "    </tr>\n",
       "    <tr>\n",
       "      <th>3</th>\n",
       "      <td>2016-09-23</td>\n",
       "      <td>Data Share Promo</td>\n",
       "      <td>0</td>\n",
       "      <td>2.0</td>\n",
       "      <td>False</td>\n",
       "      <td>Czechia</td>\n",
       "    </tr>\n",
       "    <tr>\n",
       "      <th>4</th>\n",
       "      <td>2016-09-23</td>\n",
       "      <td>Data Share Promo</td>\n",
       "      <td>0</td>\n",
       "      <td>4.0</td>\n",
       "      <td>False</td>\n",
       "      <td>Turkey</td>\n",
       "    </tr>\n",
       "  </tbody>\n",
       "</table>\n",
       "</div>"
      ],
      "text/plain": [
       "        date          campaign  transactions  pageviews  ismobile  \\\n",
       "0 2016-09-23  Data Share Promo             0        1.0     False   \n",
       "1 2016-09-23  Data Share Promo             0        1.0     False   \n",
       "2 2016-09-23  Data Share Promo             0        1.0     False   \n",
       "3 2016-09-23  Data Share Promo             0        2.0     False   \n",
       "4 2016-09-23  Data Share Promo             0        4.0     False   \n",
       "\n",
       "          country  \n",
       "0           India  \n",
       "1  United Kingdom  \n",
       "2         Czechia  \n",
       "3         Czechia  \n",
       "4          Turkey  "
      ]
     },
     "execution_count": 2,
     "metadata": {},
     "output_type": "execute_result"
    }
   ],
   "source": [
    "# Data Import\n",
    "rawData = pd.read_csv(r\"rawData.csv\", parse_dates = ['date'])\n",
    "\n",
    "rawData.head()"
   ]
  },
  {
   "cell_type": "markdown",
   "id": "b8715c1d",
   "metadata": {},
   "source": [
    "## Part 2: Exploratory Analysis"
   ]
  },
  {
   "cell_type": "code",
   "execution_count": 3,
   "id": "f8af6b18",
   "metadata": {},
   "outputs": [
    {
     "name": "stdout",
     "output_type": "stream",
     "text": [
      "<class 'pandas.core.frame.DataFrame'>\n",
      "RangeIndex: 10000 entries, 0 to 9999\n",
      "Data columns (total 6 columns):\n",
      " #   Column        Non-Null Count  Dtype         \n",
      "---  ------        --------------  -----         \n",
      " 0   date          10000 non-null  datetime64[ns]\n",
      " 1   campaign      10000 non-null  object        \n",
      " 2   transactions  10000 non-null  int64         \n",
      " 3   pageviews     9999 non-null   float64       \n",
      " 4   ismobile      10000 non-null  bool          \n",
      " 5   country       10000 non-null  object        \n",
      "dtypes: bool(1), datetime64[ns](1), float64(1), int64(1), object(2)\n",
      "memory usage: 400.5+ KB\n"
     ]
    }
   ],
   "source": [
    "# Info on the dataset\n",
    "rawData.info()"
   ]
  },
  {
   "cell_type": "code",
   "execution_count": 4,
   "id": "afa6af5e",
   "metadata": {
    "scrolled": true
   },
   "outputs": [
    {
     "data": {
      "text/html": [
       "<div>\n",
       "<style scoped>\n",
       "    .dataframe tbody tr th:only-of-type {\n",
       "        vertical-align: middle;\n",
       "    }\n",
       "\n",
       "    .dataframe tbody tr th {\n",
       "        vertical-align: top;\n",
       "    }\n",
       "\n",
       "    .dataframe thead th {\n",
       "        text-align: right;\n",
       "    }\n",
       "</style>\n",
       "<table border=\"1\" class=\"dataframe\">\n",
       "  <thead>\n",
       "    <tr style=\"text-align: right;\">\n",
       "      <th></th>\n",
       "      <th>transactions</th>\n",
       "      <th>pageviews</th>\n",
       "    </tr>\n",
       "  </thead>\n",
       "  <tbody>\n",
       "    <tr>\n",
       "      <th>count</th>\n",
       "      <td>10000.000000</td>\n",
       "      <td>9999.000000</td>\n",
       "    </tr>\n",
       "    <tr>\n",
       "      <th>mean</th>\n",
       "      <td>0.005500</td>\n",
       "      <td>4.013801</td>\n",
       "    </tr>\n",
       "    <tr>\n",
       "      <th>std</th>\n",
       "      <td>0.073961</td>\n",
       "      <td>6.323275</td>\n",
       "    </tr>\n",
       "    <tr>\n",
       "      <th>min</th>\n",
       "      <td>0.000000</td>\n",
       "      <td>1.000000</td>\n",
       "    </tr>\n",
       "    <tr>\n",
       "      <th>25%</th>\n",
       "      <td>0.000000</td>\n",
       "      <td>1.000000</td>\n",
       "    </tr>\n",
       "    <tr>\n",
       "      <th>50%</th>\n",
       "      <td>0.000000</td>\n",
       "      <td>2.000000</td>\n",
       "    </tr>\n",
       "    <tr>\n",
       "      <th>75%</th>\n",
       "      <td>0.000000</td>\n",
       "      <td>4.000000</td>\n",
       "    </tr>\n",
       "    <tr>\n",
       "      <th>max</th>\n",
       "      <td>1.000000</td>\n",
       "      <td>121.000000</td>\n",
       "    </tr>\n",
       "  </tbody>\n",
       "</table>\n",
       "</div>"
      ],
      "text/plain": [
       "       transactions    pageviews\n",
       "count  10000.000000  9999.000000\n",
       "mean       0.005500     4.013801\n",
       "std        0.073961     6.323275\n",
       "min        0.000000     1.000000\n",
       "25%        0.000000     1.000000\n",
       "50%        0.000000     2.000000\n",
       "75%        0.000000     4.000000\n",
       "max        1.000000   121.000000"
      ]
     },
     "execution_count": 4,
     "metadata": {},
     "output_type": "execute_result"
    }
   ],
   "source": [
    "# Describing the dataset\n",
    "rawData.describe()"
   ]
  },
  {
   "cell_type": "code",
   "execution_count": 6,
   "id": "c8c1340d",
   "metadata": {
    "scrolled": false
   },
   "outputs": [
    {
     "data": {
      "text/html": [
       "<div>\n",
       "<style scoped>\n",
       "    .dataframe tbody tr th:only-of-type {\n",
       "        vertical-align: middle;\n",
       "    }\n",
       "\n",
       "    .dataframe tbody tr th {\n",
       "        vertical-align: top;\n",
       "    }\n",
       "\n",
       "    .dataframe thead th {\n",
       "        text-align: right;\n",
       "    }\n",
       "</style>\n",
       "<table border=\"1\" class=\"dataframe\">\n",
       "  <thead>\n",
       "    <tr style=\"text-align: right;\">\n",
       "      <th></th>\n",
       "      <th>campaign</th>\n",
       "      <th>totalTransactions</th>\n",
       "      <th>minDate</th>\n",
       "      <th>maxDate</th>\n",
       "    </tr>\n",
       "  </thead>\n",
       "  <tbody>\n",
       "    <tr>\n",
       "      <th>0</th>\n",
       "      <td>AW - Accessories</td>\n",
       "      <td>24</td>\n",
       "      <td>2016-08-03</td>\n",
       "      <td>2017-06-05</td>\n",
       "    </tr>\n",
       "    <tr>\n",
       "      <th>1</th>\n",
       "      <td>AW - Apparel</td>\n",
       "      <td>0</td>\n",
       "      <td>2017-03-08</td>\n",
       "      <td>2017-05-21</td>\n",
       "    </tr>\n",
       "    <tr>\n",
       "      <th>2</th>\n",
       "      <td>AW - Dynamic Search Ads Whole Site</td>\n",
       "      <td>28</td>\n",
       "      <td>2016-08-03</td>\n",
       "      <td>2017-06-05</td>\n",
       "    </tr>\n",
       "    <tr>\n",
       "      <th>3</th>\n",
       "      <td>AW - Electronics</td>\n",
       "      <td>0</td>\n",
       "      <td>2016-08-03</td>\n",
       "      <td>2017-05-07</td>\n",
       "    </tr>\n",
       "    <tr>\n",
       "      <th>4</th>\n",
       "      <td>All Products</td>\n",
       "      <td>0</td>\n",
       "      <td>2016-09-09</td>\n",
       "      <td>2016-09-09</td>\n",
       "    </tr>\n",
       "    <tr>\n",
       "      <th>5</th>\n",
       "      <td>Data Share Promo</td>\n",
       "      <td>3</td>\n",
       "      <td>2016-08-03</td>\n",
       "      <td>2017-06-24</td>\n",
       "    </tr>\n",
       "  </tbody>\n",
       "</table>\n",
       "</div>"
      ],
      "text/plain": [
       "                             campaign  totalTransactions    minDate    maxDate\n",
       "0                    AW - Accessories                 24 2016-08-03 2017-06-05\n",
       "1                        AW - Apparel                  0 2017-03-08 2017-05-21\n",
       "2  AW - Dynamic Search Ads Whole Site                 28 2016-08-03 2017-06-05\n",
       "3                    AW - Electronics                  0 2016-08-03 2017-05-07\n",
       "4                        All Products                  0 2016-09-09 2016-09-09\n",
       "5                    Data Share Promo                  3 2016-08-03 2017-06-24"
      ]
     },
     "execution_count": 6,
     "metadata": {},
     "output_type": "execute_result"
    }
   ],
   "source": [
    "# Visualizing how many transactions we have to work with by Campaign\n",
    "\n",
    "# Counting transactions by campaign\n",
    "campaignTransactions = rawData.groupby(['campaign'], as_index = False)[['transactions','date']].agg(\n",
    "    totalTransactions = ('transactions', 'sum'),\n",
    "    minDate = ('date', 'min'),\n",
    "    maxDate = ('date', 'max')\n",
    ")\n",
    "\n",
    "campaignTransactions"
   ]
  },
  {
   "cell_type": "code",
   "execution_count": 7,
   "id": "cfc39716",
   "metadata": {},
   "outputs": [
    {
     "data": {
      "image/png": "[encoded data removed]",
      "text/plain": [
       "<Figure size 1440x432 with 1 Axes>"
      ]
     },
     "metadata": {},
     "output_type": "display_data"
    }
   ],
   "source": [
    "# Visualizing how much data we have available\n",
    "plt.figure(figsize = (20,6))\n",
    "for i in range(len(campaignTransactions)):\n",
    "    x = [campaignTransactions['minDate'][i], campaignTransactions['maxDate'][i]]\n",
    "    y = [campaignTransactions['campaign'][i], campaignTransactions['campaign'][i]]\n",
    "    plt.plot(x, y, 'bo', linestyle=\"--\")\n",
    "    plt.text(max(x) + timedelta(10), y[0], str(x[1] - x[0] + timedelta(1)) + str(' days'))\n",
    "    plt.title('Availability of Data by Campaign', fontweight = 'bold')\n",
    "plt.savefig('availability-of-data-by-campaign')\n",
    "plt.show()"
   ]
  },
  {
   "cell_type": "code",
   "execution_count": 8,
   "id": "5c29899c",
   "metadata": {},
   "outputs": [
    {
     "data": {
      "text/html": [
       "<div>\n",
       "<style scoped>\n",
       "    .dataframe tbody tr th:only-of-type {\n",
       "        vertical-align: middle;\n",
       "    }\n",
       "\n",
       "    .dataframe tbody tr th {\n",
       "        vertical-align: top;\n",
       "    }\n",
       "\n",
       "    .dataframe thead th {\n",
       "        text-align: right;\n",
       "    }\n",
       "</style>\n",
       "<table border=\"1\" class=\"dataframe\">\n",
       "  <thead>\n",
       "    <tr style=\"text-align: right;\">\n",
       "      <th></th>\n",
       "      <th>totalTransactions</th>\n",
       "      <th>minDate</th>\n",
       "      <th>maxDate</th>\n",
       "    </tr>\n",
       "    <tr>\n",
       "      <th>country</th>\n",
       "      <th></th>\n",
       "      <th></th>\n",
       "      <th></th>\n",
       "    </tr>\n",
       "  </thead>\n",
       "  <tbody>\n",
       "    <tr>\n",
       "      <th>France</th>\n",
       "      <td>1</td>\n",
       "      <td>2016-12-24</td>\n",
       "      <td>2016-12-24</td>\n",
       "    </tr>\n",
       "    <tr>\n",
       "      <th>United States</th>\n",
       "      <td>54</td>\n",
       "      <td>2016-08-05</td>\n",
       "      <td>2017-05-30</td>\n",
       "    </tr>\n",
       "  </tbody>\n",
       "</table>\n",
       "</div>"
      ],
      "text/plain": [
       "               totalTransactions    minDate    maxDate\n",
       "country                                               \n",
       "France                         1 2016-12-24 2016-12-24\n",
       "United States                 54 2016-08-05 2017-05-30"
      ]
     },
     "execution_count": 8,
     "metadata": {},
     "output_type": "execute_result"
    }
   ],
   "source": [
    "# Visualizing how many transactions we have to work with by Country\n",
    "# Fitlered out countries with zero transactions\n",
    "\n",
    "# Counting transactions by country\n",
    "countryTransactions = rawData.loc[rawData['transactions'] > 0].groupby(['country'])[['transactions','date']].agg(\n",
    "    totalTransactions = ('transactions', 'sum'),\n",
    "    minDate = ('date', 'min'),\n",
    "    maxDate = ('date', 'max')\n",
    ")\n",
    "\n",
    "countryTransactions"
   ]
  },
  {
   "cell_type": "code",
   "execution_count": 9,
   "id": "49502334",
   "metadata": {},
   "outputs": [
    {
     "data": {
      "image/png": "[encoded data removed]",
      "text/plain": [
       "<Figure size 864x504 with 1 Axes>"
      ]
     },
     "metadata": {},
     "output_type": "display_data"
    }
   ],
   "source": [
    "# Calculating ratio of total observations to total transactions to prep for classification\n",
    "ratioTrue = rawData['transactions'].sum()/len(rawData)\n",
    "ratioFalse = 1 - ratioTrue\n",
    "\n",
    "plt.figure(figsize = (12,7))\n",
    "plt.bar(\n",
    "    x = ['Transaction True', 'Transaction False'],\n",
    "    height = [ratioTrue, ratioFalse]\n",
    ")\n",
    "plt.title('Ratio of Transaction Status to Model: True = {}, False = {}'.format(ratioTrue, ratioFalse))\n",
    "plt.show()"
   ]
  },
  {
   "cell_type": "markdown",
   "id": "a81dd4dc",
   "metadata": {},
   "source": [
    "## Part 3: Data Processing\n",
    "Goal:\n",
    "- make a copy of raw data to protect it\n",
    "- Convert categorical features to binary values\n",
    "- Ensure all missing values are accounted for to prepare model\n",
    "- drop country as it will likely skew the model due to USA weighting we saw in EDA\n",
    "- get dummy variables for campaign\n",
    "- split data into training and test splits"
   ]
  },
  {
   "cell_type": "code",
   "execution_count": 10,
   "id": "596cf9d1",
   "metadata": {},
   "outputs": [],
   "source": [
    "# Making a copy of raw data\n",
    "df = rawData.copy()\n",
    "\n",
    "# Sorting df by date, ascending\n",
    "df.sort_values(by = 'date', ascending = True, inplace = True)\n",
    "\n",
    "# Converting isMobile to int\n",
    "df['ismobile'] = df['ismobile'].astype(int)\n",
    "\n",
    "# Dropping country\n",
    "df.drop('country', axis = 1, inplace = True)\n",
    "\n",
    "# Getting dummy variables for campaign\n",
    "campaignDummies = pd.get_dummies(df['campaign'])\n",
    "df = pd.concat([df, campaignDummies], axis = 1)\n",
    "df.drop('campaign', axis = 1, inplace = True)\n",
    "\n",
    "# Dropping one dummy variable to avoid overfitting\n",
    "df.drop('All Products', axis = 1, inplace = True)\n",
    "\n",
    "# Gathering training and test splits\n",
    "df_train, df_test = model_selection.train_test_split(df, test_size=0.3)"
   ]
  },
  {
   "cell_type": "code",
   "execution_count": 11,
   "id": "07e3600a",
   "metadata": {
    "scrolled": false
   },
   "outputs": [
    {
     "name": "stdout",
     "output_type": "stream",
     "text": [
      "Train set: (7000, 9) Test set: (3000, 9)\n"
     ]
    }
   ],
   "source": [
    "# Checking sets\n",
    "print(\"Train set: {}\".format(df_train.shape),\n",
    "      \"Test set: {}\".format(df_test.shape)\n",
    "     )"
   ]
  },
  {
   "cell_type": "markdown",
   "id": "d4d2c307",
   "metadata": {},
   "source": [
    "## Part 4: Feature Selection\n",
    "Goal:\n",
    "- Decide which features are most important"
   ]
  },
  {
   "cell_type": "code",
   "execution_count": 31,
   "id": "f9d94fcd",
   "metadata": {},
   "outputs": [
    {
     "data": {
      "text/html": [
       "<div>\n",
       "<style scoped>\n",
       "    .dataframe tbody tr th:only-of-type {\n",
       "        vertical-align: middle;\n",
       "    }\n",
       "\n",
       "    .dataframe tbody tr th {\n",
       "        vertical-align: top;\n",
       "    }\n",
       "\n",
       "    .dataframe thead th {\n",
       "        text-align: right;\n",
       "    }\n",
       "</style>\n",
       "<table border=\"1\" class=\"dataframe\">\n",
       "  <thead>\n",
       "    <tr style=\"text-align: right;\">\n",
       "      <th></th>\n",
       "      <th>Feature Names</th>\n",
       "      <th>Feature Importances</th>\n",
       "    </tr>\n",
       "  </thead>\n",
       "  <tbody>\n",
       "    <tr>\n",
       "      <th>0</th>\n",
       "      <td>pageviews</td>\n",
       "      <td>0.847192</td>\n",
       "    </tr>\n",
       "    <tr>\n",
       "      <th>1</th>\n",
       "      <td>ismobile</td>\n",
       "      <td>0.031381</td>\n",
       "    </tr>\n",
       "    <tr>\n",
       "      <th>2</th>\n",
       "      <td>AW - Accessories</td>\n",
       "      <td>0.029072</td>\n",
       "    </tr>\n",
       "    <tr>\n",
       "      <th>3</th>\n",
       "      <td>AW - Apparel</td>\n",
       "      <td>0.000158</td>\n",
       "    </tr>\n",
       "    <tr>\n",
       "      <th>4</th>\n",
       "      <td>AW - Dynamic Search Ads Whole Site</td>\n",
       "      <td>0.023481</td>\n",
       "    </tr>\n",
       "    <tr>\n",
       "      <th>5</th>\n",
       "      <td>AW - Electronics</td>\n",
       "      <td>0.001841</td>\n",
       "    </tr>\n",
       "    <tr>\n",
       "      <th>6</th>\n",
       "      <td>Data Share Promo</td>\n",
       "      <td>0.066876</td>\n",
       "    </tr>\n",
       "  </tbody>\n",
       "</table>\n",
       "</div>"
      ],
      "text/plain": [
       "                        Feature Names  Feature Importances\n",
       "0                           pageviews             0.847192\n",
       "1                            ismobile             0.031381\n",
       "2                    AW - Accessories             0.029072\n",
       "3                        AW - Apparel             0.000158\n",
       "4  AW - Dynamic Search Ads Whole Site             0.023481\n",
       "5                    AW - Electronics             0.001841\n",
       "6                    Data Share Promo             0.066876"
      ]
     },
     "execution_count": 31,
     "metadata": {},
     "output_type": "execute_result"
    }
   ],
   "source": [
    "# Setting the Random Forest Classifier\n",
    "model = ensemble.RandomForestClassifier(n_estimators=100, criterion=\"entropy\", random_state=0)\n",
    "\n",
    "# Setting X and y\n",
    "y = df_train['transactions'].copy()\n",
    "X = df_train.loc[:, ~df_train.columns.isin(['transactions', 'date'])] # removing unneeded columns\n",
    "feature_names = X.columns\n",
    "\n",
    "# Fitting model\n",
    "model.fit(X, y)\n",
    "\n",
    "# Making a dataframe with results\n",
    "dfModel = pd.DataFrame(\n",
    "    {\n",
    "        'Feature Names' : X.columns,\n",
    "        'Feature Importances' : model.feature_importances_\n",
    "    }\n",
    ")\n",
    "    \n",
    "dfModel"
   ]
  },
  {
   "cell_type": "code",
   "execution_count": null,
   "id": "83608b3d",
   "metadata": {},
   "outputs": [],
   "source": []
  }
 ],
 "metadata": {
  "kernelspec": {
   "display_name": "Python 3 (ipykernel)",
   "language": "python",
   "name": "python3"
  },
  "language_info": {
   "codemirror_mode": {
    "name": "ipython",
    "version": 3
   },
   "file_extension": ".py",
   "mimetype": "text/x-python",
   "name": "python",
   "nbconvert_exporter": "python",
   "pygments_lexer": "ipython3",
   "version": "3.9.7"
  }
 },
 "nbformat": 4,
 "nbformat_minor": 5
}
